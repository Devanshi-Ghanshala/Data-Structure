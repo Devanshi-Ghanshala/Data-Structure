{
  "nbformat": 4,
  "nbformat_minor": 0,
  "metadata": {
    "colab": {
      "provenance": []
    },
    "kernelspec": {
      "name": "python3",
      "display_name": "Python 3"
    },
    "language_info": {
      "name": "python"
    }
  },
  "cells": [
    {
      "cell_type": "markdown",
      "source": [
        "# Data Types and Structures\n",
        "\n",
        "**Q1: What are data structures, and why are they important?**\n",
        "\n",
        "- Data structures are specialized formats for organizing, storing, and managing data so that it can be used efficiently. They provide a way to handle large amounts of data, enabling efficient data access, modification, and management. Data structures include lists, tuples, dictionaries, and sets.\n",
        "\n",
        "\n",
        "\n",
        "**Q2: Explain the difference between mutable and immutable data types with examples.**\n",
        "- Mutable data types can be changed after creation. You can modify their contents without creating a new object. For eg- Lists\n",
        "\n",
        "my_list = [1, 2, 3]\n",
        "\n",
        "my_list[0] = 10  # Modifies the list\n",
        "\n",
        "- Immutable data types cannot be changed after creation. For example, strings, integers, and tuples are immutable. Any operation that appears to modify them actually creates a new object. For eg- Strings, Tuples etc.\n",
        "\n",
        "my_string = \"hello\"\n",
        "\n",
        "my_string[0] = 'H'  # This will raise an error\n",
        "\n",
        "**Q3: What are the main differences between lists and tuples in Python?**\n",
        "- Lists are mutable, meaning their elements can be modified after creation. lists are used for dynamic data. They are defined using square brackets [].\n",
        "\n",
        "my_list = [1, 2, 3]\n",
        "\n",
        "my_list[0] = 10  # Valid\n",
        "\n",
        "- Tuples are immutable, meaning their elements cannot be modified after creation. Tuples are often used for fixed data. They are defined using parentheses ().\n",
        "\n",
        "my_tuple = (1, 2, 3)\n",
        "\n",
        "my_tuple[0] = 10  # Invalid, raises an error\n",
        "\n",
        "**Q4:  Describe how dictionaries store data.**\n",
        "- Dictionaries store data as key-value pairs. Each key is unique and maps to a specific value. This allows for fast data retrieval based on keys. Dictionaries are implemented using hash tables, which provide average O(1) time complexity for lookups, insertions, and deletions.\n",
        "\n",
        "my_dict = {\"name\":\"zoey\", \"age\":\"20\"}\n",
        "\n",
        "my_dict\n",
        "\n",
        "output- {'name': 'zoey', 'age': '20'}\n",
        "\n",
        "my_dict[\"name\"]\n",
        "\n",
        "output- zoey\n",
        "\n",
        "my_dict[\"age\"]\n",
        "\n",
        "output- 20\n",
        "\n",
        "**Q5: Why might you use a set instead of a list in Python?**\n",
        "- Sets are used when you need to store unique elements and perform operations like union, intersection, or difference. Unlike lists, sets do not allow duplicate values, and they provide O(1) average time complexity for lookups.\n",
        "\n",
        "my_list = [1, 2, 1, 3, 2, 3, 4, 5, 4]\n",
        "\n",
        "my_list\n",
        "\n",
        "output- [1, 2, 1, 3, 2, 3, 4, 5, 4]\n",
        "\n",
        "my_set = {1, 2, 1, 3, 2, 3, 4, 5, 4}\n",
        "\n",
        "my_set\n",
        "\n",
        "output- {1, 2, 3, 4, 5}\n",
        "\n",
        "**Q6: What is a string in Python, and how is it different from a list?**\n",
        "- A string is a sequence of characters. Strings are immutable, meaning they cannot be changed in place.\n",
        "\n",
        "- A list is a collection of elements of any type. Lists are mutable, meaning elements can be modified.\n",
        "\n",
        "my_string = \"cookie\"\n",
        "\n",
        "my_list = [\"c\", \"o\", \"o\", \"k\", \"i\", \"e\"]\n",
        "\n",
        "**Q7: How do tuples ensure data integrity in Python?**\n",
        "- Tuples ensure data integrity because they are immutable. Once a tuple is created, its elements cannot be modified, added, or removed. This makes tuples ideal for storing fixed data that should not change, such as configuration settings or database records.\n",
        "\n",
        "**Q8. What is a hash table, and how does it relate to dictionaries in Python?**\n",
        "- A hash table is a data structure that maps keys to values using a hash function. Dictionaries in Python are implemented using hash tables, which allow for fast O(1) average time complexity for lookups, insertions, and deletions.\n",
        "\n",
        "**Q9: Can lists contain different data types in Python?**\n",
        "- Yes, lists in Python can contain elements of different data types, including integers, strings, and even other lists.\n",
        "\n",
        "my_list = [127, \"NCT\", 3.14, [1, 2, 7], \"Dream\", \"Wish\"]\n",
        "\n",
        "**Q10: Explain why strings are immutable in Python.**\n",
        "\n",
        "Strings are immutable because:\n",
        "- To ensure data integrity and optimize memory usage.\n",
        "- It improves performance (no accidental modifications).\n",
        "- It ensures hashability, allowing strings to be used as dictionary keys.\n",
        "\n",
        "**Q11. What advantages do dictionaries offer over lists for certain tasks?**\n",
        "- Dictionaries offer faster lookups (O(1) on average) compared to lists (O(n)) because they use hash tables.\n",
        "- They are ideal for tasks where data needs to be accessed by unique keys rather than by index.\n",
        "\n",
        "**Q12. Describe a scenario where using a tuple would be preferable over a list.**\n",
        "- Tuples are preferable when you need to store fixed data that should not change, such as coordinates, database records, or configuration settings.\n",
        "\n",
        "For example:\n",
        "\n",
        "coordinates = (10, 20)\n",
        "\n",
        "Days of the week: (\"Monday\", \"Tuesday\", \"Wednesday\", ...)\n",
        "\n",
        "Months of the year: (\"January\", \"February\", \"March\", ....)\n",
        "\n",
        "**Q13. How do sets handle duplicate values in Python?**\n",
        "- Sets automatically remove duplicate values when they are created or updated. This ensures that all elements in a set are unique.\n",
        "\n",
        "my_set = {1, 2, 2, 3}  \n",
        "Results in {1, 2, 3}\n",
        "\n",
        "**Q14. How does the “in” keyword work differently for lists and dictionaries?**\n",
        "- For lists, the in keyword checks if a value exists in the list, which takes O(n) time.\n",
        "\n",
        "- For dictionaries, the in keyword checks if a key exists, which takes O(1) time on average due to hash table implementation.\n",
        "\n",
        "**Q15. Can you modify the elements of a tuple? Explain why or why not.**\n",
        "- No, you cannot modify the elements of a tuple because tuples are immutable. Any attempt to change a tuple's elements will result in an error.\n",
        "\n",
        "**Q16. What is a nested dictionary, and give an example of its use case.**\n",
        "- A nested dictionary is a dictionary that contains other dictionaries as values. It is useful for representing hierarchical or structured data.\n",
        "\n",
        "my_dict = {\n",
        "\n",
        "    \"person1\": {\"name\": \"Alice\", \"age\": 25},\n",
        "\n",
        "    \"person2\": {\"name\": \"Bob\", \"age\": 30}\n",
        "\n",
        "}\n",
        "\n",
        "**Q17. Describe the time complexity of accessing elements in a dictionary.**\n",
        "- Accessing elements in a dictionary has an average time complexity of O(1) because dictionaries use hash tables for storage.\n",
        "\n",
        "**Q18. In what situations are lists preferred over dictionaries?**\n",
        "\n",
        "Lists are preferred over dictionaries\n",
        "- when you need to maintain an ordered collection of items.\n",
        "- when you need to access elements by their index.\n",
        "- also useful when the data does not require unique keys.\n",
        "\n",
        "**Q19. Why are dictionaries considered unordered, and how does that affect data retrieval?**\n",
        "- Before Python 3.7: Dictionaries were unordered (key order was unpredictable).\n",
        "- From Python 3.7+: Dictionaries maintain insertion order but retrieval is still O(1).\n",
        "-  but they are still considered unordered because their primary purpose is key-based access, not order.\n",
        "- This means you should not rely on the order of elements in a dictionary for critical operations.\n",
        "\n",
        "**Q20. Explain the difference between a list and a dictionary in terms of data retrieval.**\n",
        "- Lists retrieve data by index, which takes O(1) time for access but O(n) time for searching.\n",
        "- Dictionaries retrieve data by key, which takes O(1) time on average due to hash table implementation. This makes dictionaries faster for key-based lookups.\n",
        "\n"
      ],
      "metadata": {
        "id": "azwXup7b_WkI"
      }
    },
    {
      "cell_type": "code",
      "source": [
        "#1: Write a code to create a string with your name and print it\n",
        "name = \"Zoey Sullivan\"\n",
        "print(name)"
      ],
      "metadata": {
        "colab": {
          "base_uri": "https://localhost:8080/"
        },
        "id": "23lvS2G0ORJA",
        "outputId": "061753b8-0beb-45ab-9f4c-ea1b3ff110d6"
      },
      "execution_count": null,
      "outputs": [
        {
          "output_type": "stream",
          "name": "stdout",
          "text": [
            "Zoey Sullivan\n"
          ]
        }
      ]
    },
    {
      "cell_type": "code",
      "source": [
        "#2: Write a code to find the length of the string \"Hello World\"\n",
        "string = \"Hello World\"\n",
        "len(string)"
      ],
      "metadata": {
        "colab": {
          "base_uri": "https://localhost:8080/"
        },
        "id": "9Aml_ojuSQgl",
        "outputId": "848b71d1-4f2c-4f75-e47c-828c1d10b4b7"
      },
      "execution_count": null,
      "outputs": [
        {
          "output_type": "execute_result",
          "data": {
            "text/plain": [
              "11"
            ]
          },
          "metadata": {},
          "execution_count": 2
        }
      ]
    },
    {
      "cell_type": "code",
      "source": [
        "#3: Write a code to slice the first 3 characters from the string \"Python Programming\n",
        "string = \"Python Programming\"\n",
        "string[:3]"
      ],
      "metadata": {
        "colab": {
          "base_uri": "https://localhost:8080/",
          "height": 35
        },
        "id": "50_Q8_MjScKH",
        "outputId": "7ed693cb-5c6b-4213-9ede-67aac89f07da"
      },
      "execution_count": null,
      "outputs": [
        {
          "output_type": "execute_result",
          "data": {
            "text/plain": [
              "'Pyt'"
            ],
            "application/vnd.google.colaboratory.intrinsic+json": {
              "type": "string"
            }
          },
          "metadata": {},
          "execution_count": 3
        }
      ]
    },
    {
      "cell_type": "code",
      "source": [
        "#4: Write a code to convert the string \"hello\" to uppercase.\n",
        "string = \"hello\"\n",
        "string.upper()"
      ],
      "metadata": {
        "colab": {
          "base_uri": "https://localhost:8080/",
          "height": 35
        },
        "id": "tPdl0WIkSpgb",
        "outputId": "8bcdb48b-a5da-4654-ea32-5a8fde52db7f"
      },
      "execution_count": null,
      "outputs": [
        {
          "output_type": "execute_result",
          "data": {
            "text/plain": [
              "'HELLO'"
            ],
            "application/vnd.google.colaboratory.intrinsic+json": {
              "type": "string"
            }
          },
          "metadata": {},
          "execution_count": 4
        }
      ]
    },
    {
      "cell_type": "code",
      "source": [
        "#5: Write a code to replace the word \"apple\" with \"orange\" in the string \"I like apple\".\n",
        "string = \"I like apple\"\n",
        "string.replace(\"apple\", \"orange\")"
      ],
      "metadata": {
        "colab": {
          "base_uri": "https://localhost:8080/",
          "height": 35
        },
        "id": "SAIdY0mbTaON",
        "outputId": "ef68b0d8-79cc-445f-f4cf-6f7e0163e8fe"
      },
      "execution_count": null,
      "outputs": [
        {
          "output_type": "execute_result",
          "data": {
            "text/plain": [
              "'I like orange'"
            ],
            "application/vnd.google.colaboratory.intrinsic+json": {
              "type": "string"
            }
          },
          "metadata": {},
          "execution_count": 5
        }
      ]
    },
    {
      "cell_type": "code",
      "source": [
        "#6: Write a code to create a list with numbers 1 to 5 and print it.\n",
        "my_list = [1, 2, 3, 4, 5]\n",
        "print(my_list)"
      ],
      "metadata": {
        "colab": {
          "base_uri": "https://localhost:8080/"
        },
        "id": "eX09EVg5TmwC",
        "outputId": "28b9697c-6a6c-4e0f-8971-92c7223983e9"
      },
      "execution_count": null,
      "outputs": [
        {
          "output_type": "stream",
          "name": "stdout",
          "text": [
            "[1, 2, 3, 4, 5]\n"
          ]
        }
      ]
    },
    {
      "cell_type": "code",
      "source": [
        "#7: Write a code to append the number 10 to the list [1, 2, 3, 4].\n",
        "my_list = [1, 2, 3, 4]\n",
        "my_list.append(10)\n",
        "print(my_list)"
      ],
      "metadata": {
        "colab": {
          "base_uri": "https://localhost:8080/"
        },
        "id": "4LNDJe4FTxZX",
        "outputId": "ffda9bf3-0e01-41e2-ef8e-c0c7a0204f7d"
      },
      "execution_count": null,
      "outputs": [
        {
          "output_type": "stream",
          "name": "stdout",
          "text": [
            "[1, 2, 3, 4, 10]\n"
          ]
        }
      ]
    },
    {
      "cell_type": "code",
      "source": [
        "#8: Write a code to remove the number 3 from the list [1, 2, 3, 4, 5].\n",
        "my_list = [1, 2, 3, 4, 5]\n",
        "my_list.remove(3)\n",
        "print(my_list)"
      ],
      "metadata": {
        "colab": {
          "base_uri": "https://localhost:8080/"
        },
        "id": "kr1DBgVZT7fc",
        "outputId": "8486cd1b-0516-42ac-8a8b-60886c48df9d"
      },
      "execution_count": null,
      "outputs": [
        {
          "output_type": "stream",
          "name": "stdout",
          "text": [
            "[1, 2, 4, 5]\n"
          ]
        }
      ]
    },
    {
      "cell_type": "code",
      "source": [
        "#9: Write a code to access the second element in the list ['a', 'b', 'c', 'd'].\n",
        "my_list = ['a', 'b', 'c', 'd']\n",
        "my_list[1]"
      ],
      "metadata": {
        "colab": {
          "base_uri": "https://localhost:8080/",
          "height": 35
        },
        "id": "LjYhM9JmUFvj",
        "outputId": "92f6049a-faa5-4185-ad31-24d2a6b29e6e"
      },
      "execution_count": null,
      "outputs": [
        {
          "output_type": "execute_result",
          "data": {
            "text/plain": [
              "'b'"
            ],
            "application/vnd.google.colaboratory.intrinsic+json": {
              "type": "string"
            }
          },
          "metadata": {},
          "execution_count": 9
        }
      ]
    },
    {
      "cell_type": "code",
      "source": [
        "#10: Write a code to reverse the list [10, 20, 30, 40, 50].\n",
        "my_list = [10, 20, 30, 40, 50]\n",
        "my_list[::-1]"
      ],
      "metadata": {
        "colab": {
          "base_uri": "https://localhost:8080/"
        },
        "id": "GuDqWkl_UU51",
        "outputId": "f9831c25-2bc0-4601-c260-0d3b815a5be2"
      },
      "execution_count": null,
      "outputs": [
        {
          "output_type": "execute_result",
          "data": {
            "text/plain": [
              "[50, 40, 30, 20, 10]"
            ]
          },
          "metadata": {},
          "execution_count": 10
        }
      ]
    },
    {
      "cell_type": "code",
      "source": [
        "#11: Write a code to create a tuple with the elements 100, 200, 300 and print it.\n",
        "my_tuple = (100, 200, 300)\n",
        "print(my_tuple)"
      ],
      "metadata": {
        "colab": {
          "base_uri": "https://localhost:8080/"
        },
        "id": "7OdMYFE_UhjU",
        "outputId": "de5bb705-e46c-4b3e-e87a-00e33c5e707e"
      },
      "execution_count": null,
      "outputs": [
        {
          "output_type": "stream",
          "name": "stdout",
          "text": [
            "(100, 200, 300)\n"
          ]
        }
      ]
    },
    {
      "cell_type": "code",
      "source": [
        "#12: Write a code to access the second-to-last element of the tuple ('red', 'green', 'blue', 'yellow').\n",
        "my_tuple = ('red', 'green', 'blue', 'yellow')\n",
        "my_tuple[-2]"
      ],
      "metadata": {
        "colab": {
          "base_uri": "https://localhost:8080/",
          "height": 35
        },
        "id": "nH04lTLdUzsg",
        "outputId": "820d5502-bf2e-4d77-a6ca-e96a483d325a"
      },
      "execution_count": null,
      "outputs": [
        {
          "output_type": "execute_result",
          "data": {
            "text/plain": [
              "'blue'"
            ],
            "application/vnd.google.colaboratory.intrinsic+json": {
              "type": "string"
            }
          },
          "metadata": {},
          "execution_count": 12
        }
      ]
    },
    {
      "cell_type": "code",
      "source": [
        "#13: Write a code to find the minimum number in the tuple (10, 20, 5, 15).\n",
        "my_tuple = (10, 20, 5, 15)\n",
        "min(my_tuple)"
      ],
      "metadata": {
        "colab": {
          "base_uri": "https://localhost:8080/"
        },
        "id": "awhjqaYlU--y",
        "outputId": "6f70129a-fcd0-45ba-9cb2-7559609f64e3"
      },
      "execution_count": null,
      "outputs": [
        {
          "output_type": "execute_result",
          "data": {
            "text/plain": [
              "5"
            ]
          },
          "metadata": {},
          "execution_count": 13
        }
      ]
    },
    {
      "cell_type": "code",
      "source": [
        "#14: Write a code to find the index of the element \"cat\" in the tuple ('dog', 'cat', 'rabbit').\n",
        "my_tuple = ('dog', 'cat', 'rabbit')\n",
        "my_tuple.index('cat')"
      ],
      "metadata": {
        "colab": {
          "base_uri": "https://localhost:8080/"
        },
        "id": "9HTdYYjqVMdO",
        "outputId": "bdc4e4c5-9a19-4270-adcb-b68b5b758397"
      },
      "execution_count": null,
      "outputs": [
        {
          "output_type": "execute_result",
          "data": {
            "text/plain": [
              "1"
            ]
          },
          "metadata": {},
          "execution_count": 14
        }
      ]
    },
    {
      "cell_type": "code",
      "source": [
        "#15: Write a code to create a tuple containing three different fruits and check if \"kiwi\" is in it.\n",
        "fruits = (\"cranberry\", \"strawberry\", \"raspberry\")\n",
        "\"kiwi\" in fruits"
      ],
      "metadata": {
        "colab": {
          "base_uri": "https://localhost:8080/"
        },
        "id": "e1osPW0BVfT7",
        "outputId": "b09041b4-287b-47bb-9a5c-835ef15b7aca"
      },
      "execution_count": null,
      "outputs": [
        {
          "output_type": "execute_result",
          "data": {
            "text/plain": [
              "False"
            ]
          },
          "metadata": {},
          "execution_count": 15
        }
      ]
    },
    {
      "cell_type": "code",
      "source": [
        "#16: Write a code to create a set with the elements 'a', 'b', 'c' and print it.\n",
        "my_set = {'a', 'b', 'c'}\n",
        "print(my_set)"
      ],
      "metadata": {
        "colab": {
          "base_uri": "https://localhost:8080/"
        },
        "id": "Lg0_i5hPWEne",
        "outputId": "51a7c91c-e1c5-4b68-a034-4d654c297032"
      },
      "execution_count": null,
      "outputs": [
        {
          "output_type": "stream",
          "name": "stdout",
          "text": [
            "{'b', 'a', 'c'}\n"
          ]
        }
      ]
    },
    {
      "cell_type": "code",
      "source": [
        "#17: Write a code to clear all elements from the set {1, 2, 3, 4, 5}.\n",
        "my_set = {1, 2, 3, 4, 5}\n",
        "my_set.clear()\n",
        "my_set"
      ],
      "metadata": {
        "colab": {
          "base_uri": "https://localhost:8080/"
        },
        "id": "wLbqVG4wWW3T",
        "outputId": "a7ef77dd-4ab6-4c48-8a9b-12b09d4a183f"
      },
      "execution_count": null,
      "outputs": [
        {
          "output_type": "execute_result",
          "data": {
            "text/plain": [
              "set()"
            ]
          },
          "metadata": {},
          "execution_count": 17
        }
      ]
    },
    {
      "cell_type": "code",
      "source": [
        "#18: Write a code to remove the element 4 from the set {1, 2, 3, 4}.\n",
        "my_set = {1, 2, 3, 4}\n",
        "my_set.remove(4)\n",
        "my_set"
      ],
      "metadata": {
        "colab": {
          "base_uri": "https://localhost:8080/"
        },
        "id": "5PXOyEeOWg-K",
        "outputId": "087f51c9-1016-4c9b-9945-a69bad656a04"
      },
      "execution_count": null,
      "outputs": [
        {
          "output_type": "execute_result",
          "data": {
            "text/plain": [
              "{1, 2, 3}"
            ]
          },
          "metadata": {},
          "execution_count": 18
        }
      ]
    },
    {
      "cell_type": "code",
      "source": [
        "#19: Write a code to find the union of two sets {1, 2, 3} and {3, 4, 5}\n",
        "set_1 = {1, 2, 3}\n",
        "set_2 = {3, 4, 5}\n",
        "set_1 | set_2"
      ],
      "metadata": {
        "colab": {
          "base_uri": "https://localhost:8080/"
        },
        "id": "QckS6VhMgE0N",
        "outputId": "89bec82f-b437-4362-ecd0-c59ab78518b6"
      },
      "execution_count": null,
      "outputs": [
        {
          "output_type": "execute_result",
          "data": {
            "text/plain": [
              "{1, 2, 3, 4, 5}"
            ]
          },
          "metadata": {},
          "execution_count": 19
        }
      ]
    },
    {
      "cell_type": "code",
      "source": [
        "#20: Write a code to find the intersection of two sets {1, 2, 3} and {2, 3, 4}\n",
        "set_1 = {1, 2, 3}\n",
        "set_2 = {2, 3, 4}\n",
        "set_1 & set_2"
      ],
      "metadata": {
        "colab": {
          "base_uri": "https://localhost:8080/"
        },
        "id": "mzuhsICogU-z",
        "outputId": "93d3fdca-0cdb-47f2-ffcb-e134300ae0a2"
      },
      "execution_count": null,
      "outputs": [
        {
          "output_type": "execute_result",
          "data": {
            "text/plain": [
              "{2, 3}"
            ]
          },
          "metadata": {},
          "execution_count": 20
        }
      ]
    },
    {
      "cell_type": "code",
      "source": [
        "#21: Write a code to create a dictionary with the keys \"name\", \"age\", and \"city\", and print it.\n",
        "my_dict = {\"name\": \"Zoey Sullivan\", \"age\": \"20\", \"city\":\"London\"}\n",
        "print(my_dict)"
      ],
      "metadata": {
        "colab": {
          "base_uri": "https://localhost:8080/"
        },
        "id": "6two03u4gyRv",
        "outputId": "510153ac-5965-4be1-bbf1-424748f6a755"
      },
      "execution_count": null,
      "outputs": [
        {
          "output_type": "stream",
          "name": "stdout",
          "text": [
            "{'name': 'Zoey Sullivan', 'age': '20', 'city': 'London'}\n"
          ]
        }
      ]
    },
    {
      "cell_type": "code",
      "source": [
        "#22:  Write a code to add a new key-value pair \"country\": \"USA\" to the dictionary {'name': 'John', 'age': 25}\n",
        "dictionary = {'name': 'John', 'age': 25}\n",
        "dictionary.update({\"country\":\"USA\"})\n",
        "dictionary"
      ],
      "metadata": {
        "colab": {
          "base_uri": "https://localhost:8080/"
        },
        "id": "vAGgA-qghM0X",
        "outputId": "a6f925fe-c5f3-4c67-983f-e7161b98e110"
      },
      "execution_count": null,
      "outputs": [
        {
          "output_type": "execute_result",
          "data": {
            "text/plain": [
              "{'name': 'John', 'age': 25, 'country': 'USA'}"
            ]
          },
          "metadata": {},
          "execution_count": 22
        }
      ]
    },
    {
      "cell_type": "code",
      "source": [
        "#23:  Write a code to access the value associated with the key \"name\" in the dictionary {'name': 'Alice', 'age': 30}.\n",
        "dictionary = {'name': 'Alice', 'age': 30}\n",
        "dictionary[\"name\"]"
      ],
      "metadata": {
        "colab": {
          "base_uri": "https://localhost:8080/",
          "height": 35
        },
        "id": "Wfi9gt8QhwrE",
        "outputId": "f2aeb9dd-e7e0-4049-b1b2-4997fc7cf317"
      },
      "execution_count": null,
      "outputs": [
        {
          "output_type": "execute_result",
          "data": {
            "text/plain": [
              "'Alice'"
            ],
            "application/vnd.google.colaboratory.intrinsic+json": {
              "type": "string"
            }
          },
          "metadata": {},
          "execution_count": 23
        }
      ]
    },
    {
      "cell_type": "code",
      "source": [
        "#24: Write a code to remove the key \"age\" from the dictionary {'name': 'Bob', 'age': 22, 'city': 'New York'}.\n",
        "dictionary = {'name': 'Bob', 'age': 22, 'city': 'New York'}\n",
        "dictionary.pop(\"age\")\n",
        "dictionary"
      ],
      "metadata": {
        "colab": {
          "base_uri": "https://localhost:8080/"
        },
        "id": "BpO3s91bh-KG",
        "outputId": "51a8bc64-5701-450a-96a2-1f21d52a72a2"
      },
      "execution_count": null,
      "outputs": [
        {
          "output_type": "execute_result",
          "data": {
            "text/plain": [
              "{'name': 'Bob', 'city': 'New York'}"
            ]
          },
          "metadata": {},
          "execution_count": 24
        }
      ]
    },
    {
      "cell_type": "code",
      "source": [
        "#25:  Write a code to check if the key \"city\" exists in the dictionary {'name': 'Alice', 'city': 'Paris'}.\n",
        "dictionary = {'name': 'Alice', 'city': 'Paris'}\n",
        "\"city\" in dictionary"
      ],
      "metadata": {
        "colab": {
          "base_uri": "https://localhost:8080/"
        },
        "id": "KdSmaU8YiNlF",
        "outputId": "e9043f38-ea73-4c68-9aa3-ceafa77fdeb6"
      },
      "execution_count": null,
      "outputs": [
        {
          "output_type": "execute_result",
          "data": {
            "text/plain": [
              "True"
            ]
          },
          "metadata": {},
          "execution_count": 25
        }
      ]
    },
    {
      "cell_type": "code",
      "source": [
        "#26:  Write a code to create a list, a tuple, and a dictionary, and print them all.\n",
        "\n",
        "#list\n",
        "grocery_list = [\"Milk\", \"Eggs\", \"Honey\", \"Butter\", \"Coffe\", \"Tea\"]\n",
        "print(grocery_list)"
      ],
      "metadata": {
        "colab": {
          "base_uri": "https://localhost:8080/"
        },
        "id": "AbxAEO29ifjD",
        "outputId": "83b98ca4-746f-4b7a-b71c-db827068b31c"
      },
      "execution_count": null,
      "outputs": [
        {
          "output_type": "stream",
          "name": "stdout",
          "text": [
            "['Milk', 'Eggs', 'Honey', 'Butter', 'Coffe', 'Tea']\n"
          ]
        }
      ]
    },
    {
      "cell_type": "code",
      "source": [
        "#tuple\n",
        "Days_of_the_week = (\"Monday\", \"Tuesday\", \"Wednesday\", \"Thursday\", \"Friday\", \"Saturday\", \"Sunday\")\n",
        "print(Days_of_the_week)"
      ],
      "metadata": {
        "colab": {
          "base_uri": "https://localhost:8080/"
        },
        "id": "FWPI98HQjf6C",
        "outputId": "c91b7075-a9f8-4ceb-ca92-abcf0d2d3eb7"
      },
      "execution_count": null,
      "outputs": [
        {
          "output_type": "stream",
          "name": "stdout",
          "text": [
            "('Monday', 'Tuesday', 'Wednesday', 'Thursday', 'Friday', 'Saturday', 'Sunday')\n"
          ]
        }
      ]
    },
    {
      "cell_type": "code",
      "source": [
        "#Dictionary\n",
        "my_profile = {\"name\" : \"Zoey Sulivan\", \"age\" : 20, \"city\" : \"London\"}\n",
        "print(my_profile)"
      ],
      "metadata": {
        "colab": {
          "base_uri": "https://localhost:8080/"
        },
        "id": "RpOfplVWj44o",
        "outputId": "5ebd082a-6ea4-4869-9bf5-68616c799162"
      },
      "execution_count": null,
      "outputs": [
        {
          "output_type": "stream",
          "name": "stdout",
          "text": [
            "{'name': 'Zoey Sulivan', 'age': 20, 'city': 'London'}\n"
          ]
        }
      ]
    },
    {
      "cell_type": "code",
      "source": [
        "#27:  Write a code to create a list of 5 random numbers between 1 and 100, sort it in ascending order, and print the result.(replaced)\n",
        "random_list =[3, 11, 27, 9, 5]\n",
        "random_list.sort()\n",
        "random_list"
      ],
      "metadata": {
        "colab": {
          "base_uri": "https://localhost:8080/"
        },
        "id": "YXoXnOD8i0Vq",
        "outputId": "63ab82ff-ff03-467e-d81c-615e36d7d869"
      },
      "execution_count": null,
      "outputs": [
        {
          "output_type": "execute_result",
          "data": {
            "text/plain": [
              "[3, 5, 9, 11, 27]"
            ]
          },
          "metadata": {},
          "execution_count": 29
        }
      ]
    },
    {
      "cell_type": "code",
      "source": [
        "#28: Write a code to create a list with strings and print the element at the third index.\n",
        "sports = [\"football\", \"cricket\", \"tennis\", \"F1 racing\", \"golf\"]\n",
        "print(sports[3])"
      ],
      "metadata": {
        "colab": {
          "base_uri": "https://localhost:8080/"
        },
        "id": "kI5gmdJsi8CC",
        "outputId": "1c7f519b-fc1c-4ac9-fbb7-77e9107b2b2d"
      },
      "execution_count": null,
      "outputs": [
        {
          "output_type": "stream",
          "name": "stdout",
          "text": [
            "F1 racing\n"
          ]
        }
      ]
    },
    {
      "cell_type": "code",
      "source": [
        "#29:  Write a code to combine two dictionaries into one and print the result.\n",
        "person1 = {\"name\": \"Alice\", \"age\": 25, \"city\": \"New York\"}\n",
        "person2 = {\"name\": \"Adam\", \"age\": 28, \"city\": \"LA\"}\n",
        "people = {\"person1\": person1, \"person2\": person2}\n",
        "print(people)"
      ],
      "metadata": {
        "colab": {
          "base_uri": "https://localhost:8080/"
        },
        "id": "7dWa4xj7jFr0",
        "outputId": "75df4ff9-d321-4f4c-e591-73572e604d7e"
      },
      "execution_count": null,
      "outputs": [
        {
          "output_type": "stream",
          "name": "stdout",
          "text": [
            "{'person1': {'name': 'Alice', 'age': 25, 'city': 'New York'}, 'person2': {'name': 'Adam', 'age': 28, 'city': 'LA'}}\n"
          ]
        }
      ]
    },
    {
      "cell_type": "code",
      "source": [
        "#30: Write a code to convert a list of strings into a set.\n",
        "fruits = [\"cranberry\", \"strawberry\", \"raspberry\", \"blackberry\", \"blueberry\", \"strawberry\", \"raspberry\", \"cranberry\"]\n",
        "fruit_set = set(fruits)\n",
        "print(fruit_set)"
      ],
      "metadata": {
        "colab": {
          "base_uri": "https://localhost:8080/"
        },
        "id": "T_JMv5BajHq1",
        "outputId": "7be852ba-4c6b-4167-c2fd-f7ba29596d4f"
      },
      "execution_count": null,
      "outputs": [
        {
          "output_type": "stream",
          "name": "stdout",
          "text": [
            "{'strawberry', 'cranberry', 'raspberry', 'blackberry', 'blueberry'}\n"
          ]
        }
      ]
    }
  ]
}